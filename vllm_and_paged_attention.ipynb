{
 "cells": [
  {
   "cell_type": "markdown",
   "metadata": {
    "colab_type": "text",
    "id": "view-in-github"
   },
   "source": [
    "<a href=\"https://colab.research.google.com/github/harshita23sharma/opensource_llms/blob/main/vllm_and_paged_attention.ipynb\" target=\"_parent\"><img src=\"https://colab.research.google.com/assets/colab-badge.svg\" alt=\"Open In Colab\"/></a>"
   ]
  },
  {
   "cell_type": "markdown",
   "metadata": {
    "id": "4nqIpBv-ECUf"
   },
   "source": [
    "**PAGED ATTENTION**: An attention algorithm that allows for storing continuous keys and values in non-contiguous memory space.\n",
    "\n",
    "\n",
    "\n",
    "*   KV cache ofeach sequence is partitioned into blocks\n",
    "*   Each block has block_size = number of tokens\n",
    "*   During the attention computation, the PagedAttention kernel identifies and fetches these blocks efficiently"
   ]
  },
  {
   "cell_type": "code",
   "execution_count": null,
   "metadata": {
    "id": "7UpgXZM7EDmj"
   },
   "outputs": [],
   "source": [
    "!pip install vllm"
   ]
  },
  {
   "cell_type": "code",
   "execution_count": null,
   "metadata": {
    "id": "0N_EcK8m9Y0R"
   },
   "outputs": [],
   "source": [
    "from vllm import LLM\n",
    "\n",
    "prompts = [\"Hello, my name is\", \"The capital of France is\"]  # Sample prompts.\n",
    "llm = LLM(model=\"lmsys/vicuna-7b-v1.5\")  # Create an LLM.\n",
    "outputs = llm.generate(prompts)"
   ]
  },
  {
   "cell_type": "code",
   "execution_count": null,
   "metadata": {
    "id": "OUosgshQ-P25"
   },
   "outputs": [],
   "source": [
    "#Lesser Inference time\n",
    "#TODO: Also test for throughput"
   ]
  },
  {
   "cell_type": "markdown",
   "metadata": {
    "id": "3ELP0Khy-yWc"
   },
   "source": [
    "\n",
    "\n",
    "Advantages of Paged Attention and vLLM:\n",
    "\n",
    "\n",
    "\n",
    "*   No memory wastage: On demand block allocation and memory waste only happens in the last block of a sequence\n",
    "*   Prompt sharing parallely: Multiple output sequences are generated from the same prompt. In this case, the computation and memory for the prompt can be shared between the output sequences.\n",
    "* Enables memory sharing through its block table\n",
    "*   Enables high throughput\n",
    "\n",
    "\n",
    "\n"
   ]
  }
 ],
 "metadata": {
  "accelerator": "GPU",
  "colab": {
   "authorship_tag": "ABX9TyOh8riIdyeMqTubtrjndPMW",
   "gpuType": "T4",
   "include_colab_link": true,
   "provenance": []
  },
  "kernelspec": {
   "display_name": "Python 3 (ipykernel)",
   "language": "python",
   "name": "python3"
  },
  "language_info": {
   "codemirror_mode": {
    "name": "ipython",
    "version": 3
   },
   "file_extension": ".py",
   "mimetype": "text/x-python",
   "name": "python",
   "nbconvert_exporter": "python",
   "pygments_lexer": "ipython3",
   "version": "3.10.12"
  }
 },
 "nbformat": 4,
 "nbformat_minor": 4
}
